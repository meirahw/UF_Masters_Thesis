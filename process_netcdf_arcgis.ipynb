{
 "cells": [
  {
   "cell_type": "code",
   "execution_count": null,
   "metadata": {},
   "outputs": [],
   "source": [
    "# import arcpy to access arcgis tools\n",
    "import arcpy\n",
    "\n",
    "# import os to read files\n",
    "import os\n",
    "\n",
    "# create empty array\n",
    "array_features = []\n",
    "\n",
    "# create scratch geodatabase\n",
    "scratch_GDB = arcpy.env.scratchGDB + os.path.sep\n",
    "\n",
    "# USER MUST CHANGE THIS TO THEIR FILE LOCATION\n",
    "# set pathname to the location of the folder that contains ERO NetCDF files \n",
    "path_name = r'C:\\Users\\meira\\OneDrive - University of Florida\\UF_Thesis_Research\\ERO_NetCDF\\spr2'"
   ]
  },
  {
   "cell_type": "code",
   "execution_count": null,
   "metadata": {},
   "outputs": [],
   "source": [
    "# create loop to read through all files in above folder\n",
    "for filename in os.listdir(path_name):\n",
    "    \n",
    "    # set variables for 'Make NetCDF Feature Layer' tool\n",
    "    in_netCDF_file = path_name + '\\\\' + filename   \n",
    "    in_variable_ERO = 'FCST_ERO_Surface_FULL'\n",
    "    in_variable_OBS = 'OBS_ALL_A365324_FULL_MAX_49'\n",
    "    in_x_variable = 'lon'\n",
    "    in_y_variable = 'lat'\n",
    "    out_feature_layer_ERO = 'ERO' + '_' + filename[19:27]\n",
    "    out_feature_layer_OBS = 'OBS' + '_' + filename[19:27]\n",
    "    row_dimensions = 'lon', 'lat'\n",
    "\n",
    "    # make two feature layers: one for EROs, one for observations/proxies (OBS)\n",
    "    ERO_FL = arcpy.MakeNetCDFFeatureLayer_md(in_netCDF_file, in_variable_ERO, \n",
    "                                             in_x_variable, in_y_variable, \n",
    "                                             out_feature_layer_ERO, row_dimensions)\n",
    "\n",
    "    OBS_FL = arcpy.MakeNetCDFFeatureLayer_md(in_netCDF_file, in_variable_OBS, \n",
    "                                             in_x_variable, in_y_variable, \n",
    "                                             out_feature_layer_OBS, row_dimensions)\n",
    "    \n",
    "    # select non-zero values from both feature layers (zeros are no ERO/observation/proxy)\n",
    "    ERO_no_zeros = arcpy.SelectLayerByAttribute_management(\n",
    "        ERO_FL, 'NEW_SELECTION', '\"FCST_ERO_Surface_FULL\" <> 0')\n",
    "\n",
    "    OBS_no_zeros = arcpy.SelectLayerByAttribute_management(\n",
    "        OBS_FL, 'NEW_SELECTION', '\"OBS_ALL_A365324_FULL_MAX_49\" <> 0')\n",
    "    \n",
    "    # send ERO + observation/proxy feature layers without zeros to new feature layer\n",
    "    # store in scratch geodatabase\n",
    "    ERO_FL_no_zeros = arcpy.FeatureClassToFeatureClass_conversion(\n",
    "        ERO_no_zeros, scratch_GDB, out_feature_layer_ERO)\n",
    "\n",
    "    OBS_FL_no_zeros = arcpy.FeatureClassToFeatureClass_conversion(\n",
    "        OBS_no_zeros, scratch_GDB, out_feature_layer_OBS)\n",
    "    \n",
    "    # create location in scratch geodatabse for EROs erased from observations/proxies\n",
    "    erased_name = scratch_GDB + \"OBS_ERO_erased_\" + filename[19:27]\n",
    "    \n",
    "    # erase ERO layer form observation/proxy layer\n",
    "    # output contains only observations/proxies that were not captured by EROs\n",
    "    erase_output = arcpy.Erase_analysis(OBS_FL_no_zeros, ERO_FL_no_zeros, erased_name)\n",
    "    \n",
    "    # delete ERO and observation/proxy layer without zeros from scratch geodatabase\n",
    "    arcpy.Delete_management(OBS_FL_no_zeros)\n",
    "    arcpy.Delete_management(ERO_FL_no_zeros)\n",
    "    \n",
    "    # add erased layer to array\n",
    "    array_features.append(erase_output)"
   ]
  },
  {
   "cell_type": "code",
   "execution_count": null,
   "metadata": {},
   "outputs": [],
   "source": [
    "# count overlapping points in all feature layers\n",
    "# arcpy.CountOverlappingFeatures_analysis(array_features, 'overlap')\n",
    "\n",
    "# delete scratch geodatabase\n",
    "arcpy.Delete_management(scratch_GDB)"
   ]
  }
 ],
 "metadata": {
  "kernelspec": {
   "display_name": "Python 3",
   "language": "python",
   "name": "python3"
  },
  "language_info": {
   "codemirror_mode": {
    "name": "ipython",
    "version": 3
   },
   "file_extension": ".py",
   "mimetype": "text/x-python",
   "name": "python",
   "nbconvert_exporter": "python",
   "pygments_lexer": "ipython3",
   "version": "3.7.7"
  }
 },
 "nbformat": 4,
 "nbformat_minor": 2
}
